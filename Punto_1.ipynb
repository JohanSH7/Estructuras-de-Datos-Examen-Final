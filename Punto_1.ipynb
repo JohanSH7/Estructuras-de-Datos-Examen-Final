{
  "nbformat": 4,
  "nbformat_minor": 0,
  "metadata": {
    "colab": {
      "provenance": [],
      "authorship_tag": "ABX9TyPo6OX0U9JLHNN9yEy6/IRI",
      "include_colab_link": true
    },
    "kernelspec": {
      "name": "python3",
      "display_name": "Python 3"
    },
    "language_info": {
      "name": "python"
    }
  },
  "cells": [
    {
      "cell_type": "markdown",
      "metadata": {
        "id": "view-in-github",
        "colab_type": "text"
      },
      "source": [
        "<a href=\"https://colab.research.google.com/github/JohanSH7/Estructuras-de-Datos-Examen-Final/blob/main/Punto_1.ipynb\" target=\"_parent\"><img src=\"https://colab.research.google.com/assets/colab-badge.svg\" alt=\"Open In Colab\"/></a>"
      ]
    },
    {
      "cell_type": "markdown",
      "source": [
        "# **METODO DE ORDENAMIENTO OPTIMO PARA LA DATA, ANTES DE REALIZAR CONSULTAS EN UN SISTEMA SISTEMA DE CLASIFICACION DE RESULTADOS DE BUSQUEDA EN UN MOTOR DE BUSQUEDA**"
      ],
      "metadata": {
        "id": "X_A1avcBlVBJ"
      }
    },
    {
      "cell_type": "markdown",
      "source": [
        "Supongamos que deseamos ordenar páginas web por relevancia o fecha de publicación. El método de ordenamiento recomendado dependerá de varios factores, como el tamaño de los datos, la eficiencia del algoritmo y la naturaleza de las consultas realizadas. Los tipos de ordenamiento existentes se clasifican en:\n",
        "1. Ordenamiento por inserción\n",
        "2. Ordenamiento por intercambio\n",
        "3. Ordenamiento por selección\n",
        "4. Ordenamiento por mezcla\n",
        "5. Ordenamiento por distribución\n",
        "6. Ordenamiento por externo por mezcla multi-via\n",
        "\n",
        "Consideraciones:\n",
        "\n",
        "***Ordenamiento por inserción:***\n",
        "\n",
        "* Recomendado para conjuntos de datos pequeños o casi ordenados.\n",
        "* Puede ser eficiente si las páginas web suelen tener una clasificación preexistente y se actualizan con poca frecuencia.\n",
        "\n",
        "***Ordenamiento por intercambio:***\n",
        "\n",
        "* Similar al ordenamiento por inserción, es adecuado para conjuntos de datos pequeños.\n",
        "* No es tan eficiente en conjuntos de datos grandes debido a su complejidad de O(n^2).\n",
        "\n",
        "***Ordenamiento por selección:***\n",
        "\n",
        "* Puede ser útil para conjuntos de datos pequeños o parcialmente ordenados.\n",
        "* No es eficiente para conjuntos de datos grandes debido a su complejidad de O(n^2).\n",
        "\n",
        "***Ordenamiento por mezcla:***\n",
        "\n",
        "* Eficiente para conjuntos de datos grandes y adecuado para datos enlazados.\n",
        "* Puede ser una buena opción si la clasificación es dinámica y cambia con frecuencia.\n",
        "\n",
        "***Ordenamiento por distribución:***\n",
        "\n",
        "* Puede ser eficiente para conjuntos de datos grandes con claves numéricas o alfanuméricas.\n",
        "* Útil si se pueden definir claves significativas para las páginas web.\n",
        "\n",
        "***Ordenamiento por externo por mezcla multi-vía:***\n",
        "\n",
        "* Ideal para conjuntos de datos extremadamente grandes que no caben en la memoria principal.\n",
        "* Puede ser útil si se trabaja con grandes cantidades de datos históricos y se necesita una clasificación estable."
      ],
      "metadata": {
        "id": "7VNISxi5nEgI"
      }
    },
    {
      "cell_type": "markdown",
      "source": [
        "## **Supongamos que tenemos 200 datos aleatorios de relevancia de las paginas web**\n",
        "\n",
        "La medición de la relevancia en las páginas web es un aspecto fundamental en los motores de búsqueda y en la optimización de motores de búsqueda (SEO). Los motores de búsqueda utilizan algoritmos complejos para determinar la relevancia de una página web en relación con las consultas de búsqueda de los usuarios.\n",
        "\n",
        "Cuando queremos medir la popularidad de una web podemos recurrir al análisis de varios índices. Algunos índices reflejan el número o el valor de los enlaces de las páginas web, otros dan información sobre la posición del dominio en el ranking mundial de las páginas más visitadas, etc.\n",
        "\n",
        "La Autoridad de Página (Page Authority o PA) es una métrica de relevancia desarrollada por Moz para estimar la capacidad de una página web específica para clasificarse en los resultados de búsqueda. La métrica se calcula teniendo en cuenta varios factores, principalmente enfocados en la calidad y cantidad de los enlaces entrantes que apuntan a esa página.\n",
        "\n",
        "La Autoridad de Página se mide en una escala de 0 a 100. Cuanto más alto sea el valor de PA, mayor será la autoridad percibida de esa página. En la práctica, generalmente se presenta como un número decimal en sus informes. Esto permite una mayor precisión en la evaluación de la autoridad de una página. Aunque los informes pueden mostrar un valor decimal, es común redondear al número entero más cercano para simplificar la interpretación. Por ejemplo, una página podría tener un PA de 42.8, pero se mostrará comúnmente como 43 para facilitar la comprensión."
      ],
      "metadata": {
        "id": "e06IqCzWscCl"
      }
    },
    {
      "cell_type": "code",
      "source": [
        "import random\n",
        "\n",
        "# Simular 200 datos de Autoridad de Página (PA) en el rango de 0 a 100\n",
        "simulated_data = [random.randint(0, 100) for _ in range(200)]\n",
        "\n",
        "# Imprimir los primeros 10 datos como ejemplo\n",
        "print(\"Ejemplo de los primeros 10 datos simulados:\")\n",
        "print(simulated_data[:10])"
      ],
      "metadata": {
        "colab": {
          "base_uri": "https://localhost:8080/"
        },
        "id": "P_o0L6bmnDih",
        "outputId": "d4130b73-6b92-4574-bff3-54615055c759"
      },
      "execution_count": 42,
      "outputs": [
        {
          "output_type": "stream",
          "name": "stdout",
          "text": [
            "Ejemplo de los primeros 10 datos simulados:\n",
            "[57, 57, 48, 39, 65, 45, 96, 78, 85, 51]\n"
          ]
        }
      ]
    },
    {
      "cell_type": "markdown",
      "source": [
        "Fecha de publicación."
      ],
      "metadata": {
        "id": "f5E026yQgsXc"
      }
    },
    {
      "cell_type": "code",
      "source": [
        "import random\n",
        "from datetime import datetime, timedelta\n",
        "\n",
        "# Simular 200 fechas de publicación en un rango específico (por ejemplo, últimos 365 días)\n",
        "start_date = datetime.now() - timedelta(days=365)\n",
        "end_date = datetime.now()\n",
        "simulated_dates = [start_date + timedelta(days=random.randint(0, 365)) for _ in range(200)]\n",
        "\n",
        "# Imprimir los primeros 10 datos como ejemplo\n",
        "print(\"Ejemplo de las primeras 10 fechas simuladas:\")\n",
        "print(simulated_dates[:10])"
      ],
      "metadata": {
        "colab": {
          "base_uri": "https://localhost:8080/"
        },
        "id": "SJCWeB_rgrVg",
        "outputId": "b5e8a714-511e-4b8c-ebf8-3af188882f7d"
      },
      "execution_count": 43,
      "outputs": [
        {
          "output_type": "stream",
          "name": "stdout",
          "text": [
            "Ejemplo de las primeras 10 fechas simuladas:\n",
            "[datetime.datetime(2023, 5, 26, 3, 43, 46, 721074), datetime.datetime(2023, 5, 7, 3, 43, 46, 721074), datetime.datetime(2023, 5, 8, 3, 43, 46, 721074), datetime.datetime(2023, 5, 4, 3, 43, 46, 721074), datetime.datetime(2023, 3, 4, 3, 43, 46, 721074), datetime.datetime(2023, 4, 25, 3, 43, 46, 721074), datetime.datetime(2023, 1, 24, 3, 43, 46, 721074), datetime.datetime(2023, 5, 23, 3, 43, 46, 721074), datetime.datetime(2023, 10, 29, 3, 43, 46, 721074), datetime.datetime(2023, 11, 12, 3, 43, 46, 721074)]\n"
          ]
        }
      ]
    },
    {
      "cell_type": "markdown",
      "source": [
        "## **Metodos de ordenamiento**"
      ],
      "metadata": {
        "id": "3YU7S4RfmMYU"
      }
    },
    {
      "cell_type": "code",
      "source": [
        "def insertion_sort(data, key):\n",
        "    for i in range(1, len(data)):\n",
        "        current = data[i]\n",
        "        j = i - 1\n",
        "        while j >= 0 and data[j][key] > current[key]:\n",
        "            data[j + 1] = data[j]\n",
        "            j -= 1\n",
        "        data[j + 1] = current\n",
        "    return data\n",
        "\n",
        "def bubble_sort(data, key):\n",
        "    n = len(data)\n",
        "    for i in range(n):\n",
        "        for j in range(0, n-i-1):\n",
        "            if data[j][key] > data[j+1][key]:\n",
        "                data[j], data[j+1] = data[j+1], data[j]\n",
        "    return data\n",
        "\n",
        "def selection_sort(data, key):\n",
        "    for i in range(len(data)):\n",
        "        min_idx = i\n",
        "        for j in range(i+1, len(data)):\n",
        "            if data[j][key] < data[min_idx][key]:\n",
        "                min_idx = j\n",
        "        data[i], data[min_idx] = data[min_idx], data[i]\n",
        "    return data\n",
        "\n",
        "def counting_sort(data, key=0):\n",
        "    max_val = max(data, key=lambda x: x[key])[key]\n",
        "    min_val = min(data, key=lambda x: x[key])[key]\n",
        "\n",
        "    count = [0] * (max_val - min_val + 1)\n",
        "\n",
        "    for item in data:\n",
        "        count[item[key] - min_val] += 1\n",
        "\n",
        "    for i in range(1, len(count)):\n",
        "        count[i] += count[i - 1]\n",
        "\n",
        "    output = [0] * len(data)\n",
        "\n",
        "    i = len(data) - 1\n",
        "    while i >= 0:\n",
        "        index = data[i][key] - min_val\n",
        "        output[count[index] - 1] = data[i]\n",
        "        count[index] -= 1\n",
        "        i -= 1\n",
        "\n",
        "    return output\n",
        "\n",
        "def merge_sort(data, key):\n",
        "    if len(data) <= 1:\n",
        "        return data\n",
        "\n",
        "    middle = len(data) // 2\n",
        "    left = merge_sort(data[:middle], key)\n",
        "    right = merge_sort(data[middle:], key)\n",
        "\n",
        "    return merge(left, right, key)\n",
        "\n",
        "def merge(left, right, key):\n",
        "    result = []\n",
        "    i = j = 0\n",
        "\n",
        "    while i < len(left) and j < len(right):\n",
        "        if left[i][key] < right[j][key]:\n",
        "            result.append(left[i])\n",
        "            i += 1\n",
        "        elif left[i][key] > right[j][key]:\n",
        "            result.append(right[j])\n",
        "            j += 1\n",
        "        else:  # Desempate por fecha de publicación\n",
        "            if left[i][0] <= right[j][0]:\n",
        "                result.append(left[i])\n",
        "                i += 1\n",
        "            else:\n",
        "                result.append(right[j])\n",
        "                j += 1\n",
        "\n",
        "    result.extend(left[i:])\n",
        "    result.extend(right[j:])\n",
        "    return result"
      ],
      "metadata": {
        "id": "iC5GVPrmrWP6"
      },
      "execution_count": 39,
      "outputs": []
    },
    {
      "cell_type": "markdown",
      "source": [
        "Combinamos la fecha de publicacion y la relevancia de cada pagina en una tupla para aplicar el metodo de ordenamiento por relevancia y en casos de tener la misma relevancia, se ordene por fecha de publicacion.\n",
        "\n",
        "**Nota:** Las entradas tienen un formato similar al siguiente: una fecha de publicación del 6 de abril de 2023, a las 2:44:38.210238, con una Autoridad de Página (Relevancia) de 15. De manera similar, cada entrada en la lista tiene una fecha de publicación única y un valor asociado de Autoridad de Página."
      ],
      "metadata": {
        "id": "FVzAJVtd2Bt2"
      }
    },
    {
      "cell_type": "code",
      "source": [
        "import time\n",
        "# Combinar datos y fechas\n",
        "data_to_sort = list(zip(simulated_dates, simulated_data))\n",
        "\n",
        "# Copiar datos para tener conjuntos de datos independientes para cada método de ordenamiento\n",
        "data_copy1 = data_to_sort.copy()\n",
        "data_copy2 = data_to_sort.copy()\n",
        "data_copy3 = data_to_sort.copy()\n",
        "data_copy4 = data_to_sort.copy()\n",
        "data_copy5 = data_to_sort.copy()\n",
        "\n",
        "# Medir tiempo de ejecución para Merge Sort\n",
        "start_time = time.time()\n",
        "sorted_data1 = merge_sort(data_copy1, key=1)\n",
        "end_time = time.time()\n",
        "print(f\"Merge Sort - Tiempo de ejecución: {end_time - start_time} segundos\")\n",
        "\n",
        "# Medir tiempo de ejecución para Insertion Sort\n",
        "start_time = time.time()\n",
        "sorted_data2 = insertion_sort(data_copy2, key=1)\n",
        "end_time = time.time()\n",
        "print(f\"Insertion Sort - Tiempo de ejecución: {end_time - start_time} segundos\")\n",
        "\n",
        "# Medir tiempo de ejecución para Bubble Sort\n",
        "start_time = time.time()\n",
        "sorted_data3 = bubble_sort(data_copy3, key=1)\n",
        "end_time = time.time()\n",
        "print(f\"Bubble Sort - Tiempo de ejecución: {end_time - start_time} segundos\")\n",
        "\n",
        "# Medir tiempo de ejecución para Selection Sort\n",
        "start_time = time.time()\n",
        "sorted_data4 = selection_sort(data_copy4, key=1)\n",
        "end_time = time.time()\n",
        "print(f\"Selection Sort - Tiempo de ejecución: {end_time - start_time} segundos\")\n",
        "\n",
        "# Medir tiempo de ejecución para Counting Sort (o el algoritmo que decidas usar)\n",
        "start_time = time.time()\n",
        "sorted_data5 = counting_sort(data_copy5, key=1)\n",
        "end_time = time.time()\n",
        "print(f\"Counting Sort - Tiempo de ejecución: {end_time - start_time} segundos\")"
      ],
      "metadata": {
        "colab": {
          "base_uri": "https://localhost:8080/"
        },
        "id": "CHKFAqFRzmxs",
        "outputId": "bcebeff6-1d22-4a92-943b-bf64096168e8"
      },
      "execution_count": 44,
      "outputs": [
        {
          "output_type": "stream",
          "name": "stdout",
          "text": [
            "Merge Sort - Tiempo de ejecución: 0.0009558200836181641 segundos\n",
            "Insertion Sort - Tiempo de ejecución: 0.0035636425018310547 segundos\n",
            "Bubble Sort - Tiempo de ejecución: 0.009823083877563477 segundos\n",
            "Selection Sort - Tiempo de ejecución: 0.0050220489501953125 segundos\n",
            "Counting Sort - Tiempo de ejecución: 0.0004038810729980469 segundos\n"
          ]
        }
      ]
    },
    {
      "cell_type": "markdown",
      "source": [
        "# **CONCLUSION**\n",
        "\n",
        "Los resultados sugieren que el algoritmo Counting Sort es el más eficiente en términos de tiempo de ejecución para 200 datos. Sin embargo, la eficiencia de los algoritmos puede depender del tamaño y la naturaleza específica de los datos. En motores de búsqueda, a menudo se utilizan algoritmos que pueden manejar grandes conjuntos de datos y adaptarse bien a datos en constante cambio por lo que el algoritmo Counting Sort no podria hacer la mejor opción y tampoco podriamos descartar el algoritmo de MergeSort ya que proporciona un equilibrio entre estabilidad, eficiencia y adaptabilidad, lo que lo convierte en una opción sólida para la clasificación de resultados de búsqueda en un motor de búsqueda.\n",
        "\n",
        "Tambien se pudo notar que no se hizo la implementacion del ordenamiento externo por mezcla-multivia, ya que en el contexto de motores de búsqueda y clasificación de resultados, podría ser una opción si trabajamos con conjuntos de datos verdaderamente masivos que no se ajustan cómodamente en la memoria principal. Sin embargo, es importante tener en cuenta que implementar y gestionar un ordenamiento externo introduce complejidades adicionales en términos de E/S (entrada/salida) y acceso a disco, lo cual puede afectar el rendimiento general.\n",
        "\n",
        "PRUEBA PARA UN CONJUNTO DE DATOS MAS GRANDE:"
      ],
      "metadata": {
        "id": "tLM0NfGgAo3B"
      }
    },
    {
      "cell_type": "code",
      "source": [
        "import random\n",
        "from datetime import datetime, timedelta\n",
        "\n",
        "# Simular 200 datos de Autoridad de Página (PA) en el rango de 0 a 100\n",
        "simulated_data2 = [random.randint(0, 100) for _ in range(10000)]\n",
        "# Simular 200 fechas de publicación en un rango específico (por ejemplo, últimos 365 días)\n",
        "start_date = datetime.now() - timedelta(days=365)\n",
        "end_date = datetime.now()\n",
        "simulated_dates2 = [start_date + timedelta(days=random.randint(0, 365)) for _ in range(10000)]\n",
        "\n",
        "import time\n",
        "# Combinar datos y fechas\n",
        "data_to_sort2 = list(zip(simulated_dates2, simulated_data2))\n",
        "\n",
        "# Copiar datos para tener conjuntos de datos independientes para cada método de ordenamiento\n",
        "data_copy2_1 = data_to_sort2.copy()\n",
        "data_copy2_2 = data_to_sort2.copy()\n",
        "data_copy2_3 = data_to_sort2.copy()\n",
        "data_copy2_4 = data_to_sort2.copy()\n",
        "data_copy2_5 = data_to_sort2.copy()\n",
        "\n",
        "# Medir tiempo de ejecución para Merge Sort\n",
        "start_time = time.time()\n",
        "sorted_data1 = merge_sort(data_copy2_1, key=1)\n",
        "end_time = time.time()\n",
        "print(f\"Merge Sort - Tiempo de ejecución: {end_time - start_time} segundos\")\n",
        "\n",
        "# Medir tiempo de ejecución para Insertion Sort\n",
        "start_time = time.time()\n",
        "sorted_data2 = insertion_sort(data_copy2_2, key=1)\n",
        "end_time = time.time()\n",
        "print(f\"Insertion Sort - Tiempo de ejecución: {end_time - start_time} segundos\")\n",
        "\n",
        "# Medir tiempo de ejecución para Bubble Sort\n",
        "start_time = time.time()\n",
        "sorted_data3 = bubble_sort(data_copy2_3, key=1)\n",
        "end_time = time.time()\n",
        "print(f\"Bubble Sort - Tiempo de ejecución: {end_time - start_time} segundos\")\n",
        "\n",
        "# Medir tiempo de ejecución para Selection Sort\n",
        "start_time = time.time()\n",
        "sorted_data4 = selection_sort(data_copy2_4, key=1)\n",
        "end_time = time.time()\n",
        "print(f\"Selection Sort - Tiempo de ejecución: {end_time - start_time} segundos\")\n",
        "\n",
        "# Medir tiempo de ejecución para Counting Sort (o el algoritmo que decidas usar)\n",
        "start_time = time.time()\n",
        "sorted_data5 = counting_sort(data_copy2_5, key=1)\n",
        "end_time = time.time()\n",
        "print(f\"Counting Sort - Tiempo de ejecución: {end_time - start_time} segundos\")\n"
      ],
      "metadata": {
        "colab": {
          "base_uri": "https://localhost:8080/"
        },
        "id": "Y44R-GC7A4jr",
        "outputId": "6a399d88-a074-4466-b630-722613c1e866"
      },
      "execution_count": 46,
      "outputs": [
        {
          "output_type": "stream",
          "name": "stdout",
          "text": [
            "Merge Sort - Tiempo de ejecución: 0.06674027442932129 segundos\n",
            "Insertion Sort - Tiempo de ejecución: 5.4349684715271 segundos\n",
            "Bubble Sort - Tiempo de ejecución: 13.567477464675903 segundos\n",
            "Selection Sort - Tiempo de ejecución: 8.271729707717896 segundos\n",
            "Counting Sort - Tiempo de ejecución: 0.007067441940307617 segundos\n"
          ]
        }
      ]
    },
    {
      "cell_type": "markdown",
      "source": [
        "Ahora es claro que el agoritmo MergeSort es el indicado para este tipo de tareas"
      ],
      "metadata": {
        "id": "yKdvhXcAEPgY"
      }
    }
  ]
}